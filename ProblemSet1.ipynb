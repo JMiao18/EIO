{
 "cells": [
  {
   "cell_type": "markdown",
   "metadata": {},
   "source": [
    "## **MKT 7317 Problem Set 1**"
   ]
  },
  {
   "cell_type": "markdown",
   "metadata": {},
   "source": [
    "#### Jin Miao jxm190071@utdallas.edu"
   ]
  },
  {
   "cell_type": "markdown",
   "metadata": {},
   "source": [
    "Before getting into start working on this problem set, among other things, please get yourselves familiarized with (i) how to use **@jit** of the **numba** library, and (ii) how to parallelize your code in Python using **joblib**:"
   ]
  },
  {
   "cell_type": "code",
   "execution_count": 1,
   "metadata": {},
   "outputs": [
    {
     "data": {
      "text/plain": [
       "[0, 1, 4, 9, 16, 25, 36, 49, 64, 81]"
      ]
     },
     "execution_count": 1,
     "metadata": {},
     "output_type": "execute_result"
    }
   ],
   "source": [
    "from joblib import Parallel, delayed\n",
    "import time\n",
    "def f(x):\n",
    "    time.sleep(2)\n",
    "    return x**2\n",
    "results = Parallel(n_jobs=8)(delayed(f)(i) for i in range(10))\n",
    "results"
   ]
  },
  {
   "cell_type": "markdown",
   "metadata": {},
   "source": [
    "## _1 (Python) Calculating the OLS Estimator for a Multiple Regression_"
   ]
  },
  {
   "cell_type": "markdown",
   "metadata": {},
   "source": [
    "(a) Load **“cps09mar.csv”** into memory (use either polars or pandas)"
   ]
  },
  {
   "cell_type": "code",
   "execution_count": 2,
   "metadata": {},
   "outputs": [
    {
     "data": {
      "text/html": [
       "<div>\n",
       "<style scoped>\n",
       "    .dataframe tbody tr th:only-of-type {\n",
       "        vertical-align: middle;\n",
       "    }\n",
       "\n",
       "    .dataframe tbody tr th {\n",
       "        vertical-align: top;\n",
       "    }\n",
       "\n",
       "    .dataframe thead th {\n",
       "        text-align: right;\n",
       "    }\n",
       "</style>\n",
       "<table border=\"1\" class=\"dataframe\">\n",
       "  <thead>\n",
       "    <tr style=\"text-align: right;\">\n",
       "      <th></th>\n",
       "      <th>age</th>\n",
       "      <th>female</th>\n",
       "      <th>hisp</th>\n",
       "      <th>education</th>\n",
       "      <th>earnings</th>\n",
       "      <th>hours</th>\n",
       "      <th>week</th>\n",
       "      <th>union</th>\n",
       "      <th>uncov</th>\n",
       "      <th>region</th>\n",
       "      <th>race</th>\n",
       "      <th>marital</th>\n",
       "    </tr>\n",
       "  </thead>\n",
       "  <tbody>\n",
       "    <tr>\n",
       "      <th>0</th>\n",
       "      <td>52</td>\n",
       "      <td>0</td>\n",
       "      <td>0</td>\n",
       "      <td>12</td>\n",
       "      <td>146000</td>\n",
       "      <td>45</td>\n",
       "      <td>52</td>\n",
       "      <td>0</td>\n",
       "      <td>0</td>\n",
       "      <td>1</td>\n",
       "      <td>1</td>\n",
       "      <td>1</td>\n",
       "    </tr>\n",
       "    <tr>\n",
       "      <th>1</th>\n",
       "      <td>38</td>\n",
       "      <td>0</td>\n",
       "      <td>0</td>\n",
       "      <td>18</td>\n",
       "      <td>50000</td>\n",
       "      <td>45</td>\n",
       "      <td>52</td>\n",
       "      <td>0</td>\n",
       "      <td>0</td>\n",
       "      <td>1</td>\n",
       "      <td>1</td>\n",
       "      <td>1</td>\n",
       "    </tr>\n",
       "    <tr>\n",
       "      <th>2</th>\n",
       "      <td>38</td>\n",
       "      <td>0</td>\n",
       "      <td>0</td>\n",
       "      <td>14</td>\n",
       "      <td>32000</td>\n",
       "      <td>40</td>\n",
       "      <td>51</td>\n",
       "      <td>0</td>\n",
       "      <td>0</td>\n",
       "      <td>1</td>\n",
       "      <td>1</td>\n",
       "      <td>1</td>\n",
       "    </tr>\n",
       "    <tr>\n",
       "      <th>3</th>\n",
       "      <td>41</td>\n",
       "      <td>1</td>\n",
       "      <td>0</td>\n",
       "      <td>13</td>\n",
       "      <td>47000</td>\n",
       "      <td>40</td>\n",
       "      <td>52</td>\n",
       "      <td>0</td>\n",
       "      <td>0</td>\n",
       "      <td>1</td>\n",
       "      <td>1</td>\n",
       "      <td>1</td>\n",
       "    </tr>\n",
       "    <tr>\n",
       "      <th>4</th>\n",
       "      <td>42</td>\n",
       "      <td>0</td>\n",
       "      <td>0</td>\n",
       "      <td>13</td>\n",
       "      <td>161525</td>\n",
       "      <td>50</td>\n",
       "      <td>52</td>\n",
       "      <td>1</td>\n",
       "      <td>0</td>\n",
       "      <td>1</td>\n",
       "      <td>1</td>\n",
       "      <td>1</td>\n",
       "    </tr>\n",
       "    <tr>\n",
       "      <th>...</th>\n",
       "      <td>...</td>\n",
       "      <td>...</td>\n",
       "      <td>...</td>\n",
       "      <td>...</td>\n",
       "      <td>...</td>\n",
       "      <td>...</td>\n",
       "      <td>...</td>\n",
       "      <td>...</td>\n",
       "      <td>...</td>\n",
       "      <td>...</td>\n",
       "      <td>...</td>\n",
       "      <td>...</td>\n",
       "    </tr>\n",
       "    <tr>\n",
       "      <th>50737</th>\n",
       "      <td>58</td>\n",
       "      <td>1</td>\n",
       "      <td>0</td>\n",
       "      <td>11</td>\n",
       "      <td>30000</td>\n",
       "      <td>40</td>\n",
       "      <td>52</td>\n",
       "      <td>0</td>\n",
       "      <td>0</td>\n",
       "      <td>4</td>\n",
       "      <td>4</td>\n",
       "      <td>6</td>\n",
       "    </tr>\n",
       "    <tr>\n",
       "      <th>50738</th>\n",
       "      <td>62</td>\n",
       "      <td>1</td>\n",
       "      <td>0</td>\n",
       "      <td>16</td>\n",
       "      <td>35000</td>\n",
       "      <td>40</td>\n",
       "      <td>52</td>\n",
       "      <td>0</td>\n",
       "      <td>0</td>\n",
       "      <td>4</td>\n",
       "      <td>4</td>\n",
       "      <td>6</td>\n",
       "    </tr>\n",
       "    <tr>\n",
       "      <th>50739</th>\n",
       "      <td>58</td>\n",
       "      <td>0</td>\n",
       "      <td>0</td>\n",
       "      <td>12</td>\n",
       "      <td>75000</td>\n",
       "      <td>50</td>\n",
       "      <td>52</td>\n",
       "      <td>0</td>\n",
       "      <td>0</td>\n",
       "      <td>4</td>\n",
       "      <td>1</td>\n",
       "      <td>1</td>\n",
       "    </tr>\n",
       "    <tr>\n",
       "      <th>50740</th>\n",
       "      <td>45</td>\n",
       "      <td>1</td>\n",
       "      <td>0</td>\n",
       "      <td>12</td>\n",
       "      <td>40000</td>\n",
       "      <td>60</td>\n",
       "      <td>52</td>\n",
       "      <td>0</td>\n",
       "      <td>0</td>\n",
       "      <td>4</td>\n",
       "      <td>1</td>\n",
       "      <td>1</td>\n",
       "    </tr>\n",
       "    <tr>\n",
       "      <th>50741</th>\n",
       "      <td>40</td>\n",
       "      <td>0</td>\n",
       "      <td>0</td>\n",
       "      <td>11</td>\n",
       "      <td>60000</td>\n",
       "      <td>40</td>\n",
       "      <td>52</td>\n",
       "      <td>0</td>\n",
       "      <td>0</td>\n",
       "      <td>4</td>\n",
       "      <td>9</td>\n",
       "      <td>1</td>\n",
       "    </tr>\n",
       "  </tbody>\n",
       "</table>\n",
       "<p>50742 rows × 12 columns</p>\n",
       "</div>"
      ],
      "text/plain": [
       "       age  female  hisp  education  earnings  hours  week  union  uncov  \\\n",
       "0       52       0     0         12    146000     45    52      0      0   \n",
       "1       38       0     0         18     50000     45    52      0      0   \n",
       "2       38       0     0         14     32000     40    51      0      0   \n",
       "3       41       1     0         13     47000     40    52      0      0   \n",
       "4       42       0     0         13    161525     50    52      1      0   \n",
       "...    ...     ...   ...        ...       ...    ...   ...    ...    ...   \n",
       "50737   58       1     0         11     30000     40    52      0      0   \n",
       "50738   62       1     0         16     35000     40    52      0      0   \n",
       "50739   58       0     0         12     75000     50    52      0      0   \n",
       "50740   45       1     0         12     40000     60    52      0      0   \n",
       "50741   40       0     0         11     60000     40    52      0      0   \n",
       "\n",
       "       region  race  marital  \n",
       "0           1     1        1  \n",
       "1           1     1        1  \n",
       "2           1     1        1  \n",
       "3           1     1        1  \n",
       "4           1     1        1  \n",
       "...       ...   ...      ...  \n",
       "50737       4     4        6  \n",
       "50738       4     4        6  \n",
       "50739       4     1        1  \n",
       "50740       4     1        1  \n",
       "50741       4     9        1  \n",
       "\n",
       "[50742 rows x 12 columns]"
      ]
     },
     "execution_count": 2,
     "metadata": {},
     "output_type": "execute_result"
    }
   ],
   "source": [
    "import numpy as np\n",
    "import pandas as pd\n",
    "data = pd.read_csv(\"/home/bizmia/Desktop/Joonhwi/Task1/cps09mar.csv\")\n",
    "data"
   ]
  },
  {
   "cell_type": "markdown",
   "metadata": {},
   "source": [
    "(b) Generate a column of ones, and generate a variable **log_wage** by taking natural loga-\n",
    "rithm of the variable earnings."
   ]
  },
  {
   "cell_type": "code",
   "execution_count": 3,
   "metadata": {},
   "outputs": [
    {
     "data": {
      "text/html": [
       "<div>\n",
       "<style scoped>\n",
       "    .dataframe tbody tr th:only-of-type {\n",
       "        vertical-align: middle;\n",
       "    }\n",
       "\n",
       "    .dataframe tbody tr th {\n",
       "        vertical-align: top;\n",
       "    }\n",
       "\n",
       "    .dataframe thead th {\n",
       "        text-align: right;\n",
       "    }\n",
       "</style>\n",
       "<table border=\"1\" class=\"dataframe\">\n",
       "  <thead>\n",
       "    <tr style=\"text-align: right;\">\n",
       "      <th></th>\n",
       "      <th>age</th>\n",
       "      <th>female</th>\n",
       "      <th>hisp</th>\n",
       "      <th>education</th>\n",
       "      <th>earnings</th>\n",
       "      <th>hours</th>\n",
       "      <th>week</th>\n",
       "      <th>union</th>\n",
       "      <th>uncov</th>\n",
       "      <th>region</th>\n",
       "      <th>race</th>\n",
       "      <th>marital</th>\n",
       "      <th>ones</th>\n",
       "      <th>log_wage</th>\n",
       "    </tr>\n",
       "  </thead>\n",
       "  <tbody>\n",
       "    <tr>\n",
       "      <th>0</th>\n",
       "      <td>52</td>\n",
       "      <td>0</td>\n",
       "      <td>0</td>\n",
       "      <td>12</td>\n",
       "      <td>146000</td>\n",
       "      <td>45</td>\n",
       "      <td>52</td>\n",
       "      <td>0</td>\n",
       "      <td>0</td>\n",
       "      <td>1</td>\n",
       "      <td>1</td>\n",
       "      <td>1</td>\n",
       "      <td>1</td>\n",
       "      <td>11.891362</td>\n",
       "    </tr>\n",
       "    <tr>\n",
       "      <th>1</th>\n",
       "      <td>38</td>\n",
       "      <td>0</td>\n",
       "      <td>0</td>\n",
       "      <td>18</td>\n",
       "      <td>50000</td>\n",
       "      <td>45</td>\n",
       "      <td>52</td>\n",
       "      <td>0</td>\n",
       "      <td>0</td>\n",
       "      <td>1</td>\n",
       "      <td>1</td>\n",
       "      <td>1</td>\n",
       "      <td>1</td>\n",
       "      <td>10.819778</td>\n",
       "    </tr>\n",
       "    <tr>\n",
       "      <th>2</th>\n",
       "      <td>38</td>\n",
       "      <td>0</td>\n",
       "      <td>0</td>\n",
       "      <td>14</td>\n",
       "      <td>32000</td>\n",
       "      <td>40</td>\n",
       "      <td>51</td>\n",
       "      <td>0</td>\n",
       "      <td>0</td>\n",
       "      <td>1</td>\n",
       "      <td>1</td>\n",
       "      <td>1</td>\n",
       "      <td>1</td>\n",
       "      <td>10.373491</td>\n",
       "    </tr>\n",
       "    <tr>\n",
       "      <th>3</th>\n",
       "      <td>41</td>\n",
       "      <td>1</td>\n",
       "      <td>0</td>\n",
       "      <td>13</td>\n",
       "      <td>47000</td>\n",
       "      <td>40</td>\n",
       "      <td>52</td>\n",
       "      <td>0</td>\n",
       "      <td>0</td>\n",
       "      <td>1</td>\n",
       "      <td>1</td>\n",
       "      <td>1</td>\n",
       "      <td>1</td>\n",
       "      <td>10.757903</td>\n",
       "    </tr>\n",
       "    <tr>\n",
       "      <th>4</th>\n",
       "      <td>42</td>\n",
       "      <td>0</td>\n",
       "      <td>0</td>\n",
       "      <td>13</td>\n",
       "      <td>161525</td>\n",
       "      <td>50</td>\n",
       "      <td>52</td>\n",
       "      <td>1</td>\n",
       "      <td>0</td>\n",
       "      <td>1</td>\n",
       "      <td>1</td>\n",
       "      <td>1</td>\n",
       "      <td>1</td>\n",
       "      <td>11.992415</td>\n",
       "    </tr>\n",
       "    <tr>\n",
       "      <th>...</th>\n",
       "      <td>...</td>\n",
       "      <td>...</td>\n",
       "      <td>...</td>\n",
       "      <td>...</td>\n",
       "      <td>...</td>\n",
       "      <td>...</td>\n",
       "      <td>...</td>\n",
       "      <td>...</td>\n",
       "      <td>...</td>\n",
       "      <td>...</td>\n",
       "      <td>...</td>\n",
       "      <td>...</td>\n",
       "      <td>...</td>\n",
       "      <td>...</td>\n",
       "    </tr>\n",
       "    <tr>\n",
       "      <th>50737</th>\n",
       "      <td>58</td>\n",
       "      <td>1</td>\n",
       "      <td>0</td>\n",
       "      <td>11</td>\n",
       "      <td>30000</td>\n",
       "      <td>40</td>\n",
       "      <td>52</td>\n",
       "      <td>0</td>\n",
       "      <td>0</td>\n",
       "      <td>4</td>\n",
       "      <td>4</td>\n",
       "      <td>6</td>\n",
       "      <td>1</td>\n",
       "      <td>10.308953</td>\n",
       "    </tr>\n",
       "    <tr>\n",
       "      <th>50738</th>\n",
       "      <td>62</td>\n",
       "      <td>1</td>\n",
       "      <td>0</td>\n",
       "      <td>16</td>\n",
       "      <td>35000</td>\n",
       "      <td>40</td>\n",
       "      <td>52</td>\n",
       "      <td>0</td>\n",
       "      <td>0</td>\n",
       "      <td>4</td>\n",
       "      <td>4</td>\n",
       "      <td>6</td>\n",
       "      <td>1</td>\n",
       "      <td>10.463103</td>\n",
       "    </tr>\n",
       "    <tr>\n",
       "      <th>50739</th>\n",
       "      <td>58</td>\n",
       "      <td>0</td>\n",
       "      <td>0</td>\n",
       "      <td>12</td>\n",
       "      <td>75000</td>\n",
       "      <td>50</td>\n",
       "      <td>52</td>\n",
       "      <td>0</td>\n",
       "      <td>0</td>\n",
       "      <td>4</td>\n",
       "      <td>1</td>\n",
       "      <td>1</td>\n",
       "      <td>1</td>\n",
       "      <td>11.225243</td>\n",
       "    </tr>\n",
       "    <tr>\n",
       "      <th>50740</th>\n",
       "      <td>45</td>\n",
       "      <td>1</td>\n",
       "      <td>0</td>\n",
       "      <td>12</td>\n",
       "      <td>40000</td>\n",
       "      <td>60</td>\n",
       "      <td>52</td>\n",
       "      <td>0</td>\n",
       "      <td>0</td>\n",
       "      <td>4</td>\n",
       "      <td>1</td>\n",
       "      <td>1</td>\n",
       "      <td>1</td>\n",
       "      <td>10.596635</td>\n",
       "    </tr>\n",
       "    <tr>\n",
       "      <th>50741</th>\n",
       "      <td>40</td>\n",
       "      <td>0</td>\n",
       "      <td>0</td>\n",
       "      <td>11</td>\n",
       "      <td>60000</td>\n",
       "      <td>40</td>\n",
       "      <td>52</td>\n",
       "      <td>0</td>\n",
       "      <td>0</td>\n",
       "      <td>4</td>\n",
       "      <td>9</td>\n",
       "      <td>1</td>\n",
       "      <td>1</td>\n",
       "      <td>11.002100</td>\n",
       "    </tr>\n",
       "  </tbody>\n",
       "</table>\n",
       "<p>50742 rows × 14 columns</p>\n",
       "</div>"
      ],
      "text/plain": [
       "       age  female  hisp  education  earnings  hours  week  union  uncov  \\\n",
       "0       52       0     0         12    146000     45    52      0      0   \n",
       "1       38       0     0         18     50000     45    52      0      0   \n",
       "2       38       0     0         14     32000     40    51      0      0   \n",
       "3       41       1     0         13     47000     40    52      0      0   \n",
       "4       42       0     0         13    161525     50    52      1      0   \n",
       "...    ...     ...   ...        ...       ...    ...   ...    ...    ...   \n",
       "50737   58       1     0         11     30000     40    52      0      0   \n",
       "50738   62       1     0         16     35000     40    52      0      0   \n",
       "50739   58       0     0         12     75000     50    52      0      0   \n",
       "50740   45       1     0         12     40000     60    52      0      0   \n",
       "50741   40       0     0         11     60000     40    52      0      0   \n",
       "\n",
       "       region  race  marital  ones   log_wage  \n",
       "0           1     1        1     1  11.891362  \n",
       "1           1     1        1     1  10.819778  \n",
       "2           1     1        1     1  10.373491  \n",
       "3           1     1        1     1  10.757903  \n",
       "4           1     1        1     1  11.992415  \n",
       "...       ...   ...      ...   ...        ...  \n",
       "50737       4     4        6     1  10.308953  \n",
       "50738       4     4        6     1  10.463103  \n",
       "50739       4     1        1     1  11.225243  \n",
       "50740       4     1        1     1  10.596635  \n",
       "50741       4     9        1     1  11.002100  \n",
       "\n",
       "[50742 rows x 14 columns]"
      ]
     },
     "execution_count": 3,
     "metadata": {},
     "output_type": "execute_result"
    }
   ],
   "source": [
    "data['ones'] = 1\n",
    "data['log_wage'] = np.log(data.earnings)\n",
    "data"
   ]
  },
  {
   "cell_type": "markdown",
   "metadata": {},
   "source": [
    "(c) Extract the data matrices **y**, **X** as numpy array."
   ]
  },
  {
   "cell_type": "code",
   "execution_count": 4,
   "metadata": {},
   "outputs": [
    {
     "name": "stdout",
     "output_type": "stream",
     "text": [
      "[11.8913619  10.81977828 10.37349118 ... 11.22524339 10.59663473\n",
      " 11.00209984]\n",
      "<class 'numpy.ndarray'>\n",
      "[[ 1  0 12 45]\n",
      " [ 1  0 18 45]\n",
      " [ 1  0 14 40]\n",
      " ...\n",
      " [ 1  0 12 50]\n",
      " [ 1  1 12 60]\n",
      " [ 1  0 11 40]]\n",
      "<class 'numpy.ndarray'>\n"
     ]
    }
   ],
   "source": [
    "y = data.log_wage.to_numpy()\n",
    "print(y)\n",
    "print(type(y))\n",
    "X = data[['ones','female','education', 'hours']].to_numpy()\n",
    "print(X)\n",
    "print(type(X))"
   ]
  },
  {
   "cell_type": "markdown",
   "metadata": {},
   "source": [
    "Now Consider the population regression function:\n",
    "$$y_i = x_i^{i} \\beta + \\mu_i$$\n",
    "where $y_i$ corresponds to the log_wage variable and $x_i$ corresponds to a constant and female,\n",
    "education, hours variables in the data."
   ]
  },
  {
   "cell_type": "markdown",
   "metadata": {},
   "source": [
    "(d) Find the sample size $n$ of this data and column rank $k$ of the matrix $Xs$"
   ]
  },
  {
   "cell_type": "code",
   "execution_count": 5,
   "metadata": {},
   "outputs": [
    {
     "name": "stdout",
     "output_type": "stream",
     "text": [
      "50742\n",
      "4\n"
     ]
    }
   ],
   "source": [
    "n = len(y)\n",
    "print(n)\n",
    "k = X.shape[1]\n",
    "print(k)"
   ]
  },
  {
   "cell_type": "markdown",
   "metadata": {},
   "source": [
    "(e) Calculate the OLS estimator $\\hat \\beta$ for $\\beta$ using the usual closed-form formula \n",
    "$$ \\hat \\beta = (X^{'}X)^{-1} X^{'}y $$"
   ]
  },
  {
   "cell_type": "code",
   "execution_count": 6,
   "metadata": {},
   "outputs": [
    {
     "name": "stdout",
     "output_type": "stream",
     "text": [
      "[ 8.57636643 -0.27818095  0.11322532  0.0143364 ]\n"
     ]
    }
   ],
   "source": [
    "beta_hat = np.linalg.inv( np.transpose(X) @ X ) @ np.transpose(X) @ y\n",
    "print(beta_hat)"
   ]
  },
  {
   "cell_type": "markdown",
   "metadata": {},
   "source": [
    "(e) Calculate the prediction $\\hat y_i = x_i^{'} \\beta$ for each given sample point $x_i$. Save the prediction\n",
    "$\\hat y = (\\hat y_1, \\hat y_2, ..., \\hat y_n )^{'}$ in memory for future use in the following steps."
   ]
  },
  {
   "cell_type": "code",
   "execution_count": 7,
   "metadata": {},
   "outputs": [
    {
     "data": {
      "text/plain": [
       "array([10.58020828, 11.25956018, 10.73497691, ..., 10.65189029,\n",
       "       10.51707335, 10.39530096])"
      ]
     },
     "execution_count": 7,
     "metadata": {},
     "output_type": "execute_result"
    }
   ],
   "source": [
    "y_hat = X @ beta_hat\n",
    "y_hat"
   ]
  },
  {
   "cell_type": "markdown",
   "metadata": {},
   "source": [
    "(g) Calculate the residual $\\hat \\mu_i = y_i - x_i^{'} \\hat \\beta$ for each given sample point $x_i$. Save the residual vector $\\hat{\\mu} = (\\hat \\mu_1, \\hat \\mu_2, ..., \\hat \\mu_n )^{'}$ in memory for future use in the following steps."
   ]
  },
  {
   "cell_type": "code",
   "execution_count": 8,
   "metadata": {},
   "outputs": [
    {
     "data": {
      "text/plain": [
       "array([ 1.31115362, -0.43978189, -0.36148573, ...,  0.5733531 ,\n",
       "        0.07956139,  0.60679888])"
      ]
     },
     "execution_count": 8,
     "metadata": {},
     "output_type": "execute_result"
    }
   ],
   "source": [
    "mu_hat = y - y_hat\n",
    "mu_hat"
   ]
  },
  {
   "cell_type": "markdown",
   "metadata": {},
   "source": [
    "(h) Calculate the standard error of the regression using only basic arithmetic operations and basic matrix\n",
    "operations"
   ]
  },
  {
   "cell_type": "markdown",
   "metadata": {},
   "source": [
    "$$ \\sqrt{s^2} = \\sqrt{ \\frac{\\mu^{'} \\mu}{n - k} } $$"
   ]
  },
  {
   "cell_type": "code",
   "execution_count": 9,
   "metadata": {},
   "outputs": [
    {
     "data": {
      "text/plain": [
       "0.5946986423377512"
      ]
     },
     "execution_count": 9,
     "metadata": {},
     "output_type": "execute_result"
    }
   ],
   "source": [
    "se = np.sqrt(np.transpose(mu_hat) @ mu_hat /(n - k))\n",
    "se"
   ]
  },
  {
   "cell_type": "markdown",
   "metadata": {},
   "source": [
    "(i) Calculate $Est.Var \\bigg( \\hat \\beta \\bigg| \\{ x_k \\}_{k = 1}^n \\bigg)$ , the estimated covariance matrix of $\\hat \\beta$ given data, using only basic arithmetic operations and basic matrix operations."
   ]
  },
  {
   "cell_type": "markdown",
   "metadata": {},
   "source": [
    "$$ Est.Var \\bigg( \\hat \\beta \\bigg| \\{ x_k \\}_{k = 1}^n \\bigg) = s^2 (X^{'}X)^{-1} $$"
   ]
  },
  {
   "cell_type": "code",
   "execution_count": 36,
   "metadata": {},
   "outputs": [
    {
     "name": "stdout",
     "output_type": "stream",
     "text": [
      "[[ 3.80316414e-04 -2.20563037e-05 -1.08539202e-05 -4.85588278e-06]\n",
      " [-2.20563037e-05  2.94610568e-05 -3.63149841e-07  3.32459841e-07]\n",
      " [-1.08539202e-05 -3.63149841e-07  9.47326121e-07 -4.98008451e-08]\n",
      " [-4.85588278e-06  3.32459841e-07 -4.98008451e-08  1.23389119e-07]]\n"
     ]
    }
   ],
   "source": [
    "EstVar = np.diag([se**2] * k) @ np.linalg.inv( np.transpose(X) @ X )\n",
    "print(EstVar)"
   ]
  },
  {
   "cell_type": "markdown",
   "metadata": {},
   "source": [
    "(j) Calculate the **Total Sum of Squares (TSS), Explained Sum of Squares (ESS), Residual\n",
    "Sum of Squares (RSS)** using only basic arithmetic operations and basic matrix operations."
   ]
  },
  {
   "cell_type": "markdown",
   "metadata": {},
   "source": [
    "$$TSS = \\sum_{i = 1}^n (y_i - \\bar y)^2 $$\n",
    "$$RSS = \\sum_{i = 1}^n (\\hat y_i - \\bar y)^2 $$\n",
    "$$ESS = \\sum_{i = 1}^n (y_i - \\hat y)^2 $$"
   ]
  },
  {
   "cell_type": "code",
   "execution_count": 11,
   "metadata": {},
   "outputs": [
    {
     "name": "stdout",
     "output_type": "stream",
     "text": [
      "24960.672254528137\n",
      "7016.342635913588\n",
      "17944.329618614618\n"
     ]
    }
   ],
   "source": [
    "y_mean = np.sum(y) / n\n",
    "TSS = np.sum((y - y_mean)**2)\n",
    "print(TSS)\n",
    "RSS = np.sum((y_hat - y_mean)**2)\n",
    "print(RSS)\n",
    "ESS = np.sum((y - y_hat)**2)\n",
    "print(ESS)"
   ]
  },
  {
   "cell_type": "markdown",
   "metadata": {},
   "source": [
    "(k) Calculate $R^2$. Verify that the following is true:\n",
    "$$ \\frac{ESS}{TSS} = 1 - \\frac{RSS}{TSS} $$"
   ]
  },
  {
   "cell_type": "markdown",
   "metadata": {},
   "source": [
    "$R^2 = \\frac{RSS}{TSS} = 0.2811$"
   ]
  },
  {
   "cell_type": "code",
   "execution_count": 12,
   "metadata": {},
   "outputs": [
    {
     "data": {
      "text/plain": [
       "0.2810959001571261"
      ]
     },
     "execution_count": 12,
     "metadata": {},
     "output_type": "execute_result"
    }
   ],
   "source": [
    "RSS / TSS"
   ]
  },
  {
   "cell_type": "code",
   "execution_count": 13,
   "metadata": {},
   "outputs": [
    {
     "data": {
      "text/plain": [
       "0.7189040998428767"
      ]
     },
     "execution_count": 13,
     "metadata": {},
     "output_type": "execute_result"
    }
   ],
   "source": [
    "ESS / TSS"
   ]
  },
  {
   "cell_type": "code",
   "execution_count": 14,
   "metadata": {},
   "outputs": [
    {
     "data": {
      "text/plain": [
       "0.718904099842874"
      ]
     },
     "execution_count": 14,
     "metadata": {},
     "output_type": "execute_result"
    }
   ],
   "source": [
    "1 - RSS / TSS"
   ]
  },
  {
   "cell_type": "markdown",
   "metadata": {},
   "source": [
    "(l) Numerically calculate $\\sum_{i = 1}^n \\hat \\mu_i $ and $\\sum_{i = 1}^n \\hat \\mu_i x_i $. Compare your results with the theoretical\n",
    "results."
   ]
  },
  {
   "cell_type": "markdown",
   "metadata": {},
   "source": [
    "_Theoretical Results_"
   ]
  },
  {
   "cell_type": "markdown",
   "metadata": {},
   "source": [
    "$\\sum_{i = 1}^n \\hat \\mu_i = \\sum_{i = 1}^n (y_i - \\hat y_i) = \\sum_{i = 1}^n (y_i - x_i^{'} \\hat \\beta) = 0 $\n"
   ]
  },
  {
   "cell_type": "markdown",
   "metadata": {},
   "source": [
    "$\\sum_{i = 1}^n \\hat \\mu_i x_i = \\sum_{i = 1}^n (y_i - \\hat y_i) x_i = X^{'} \\bigg(y - X(X^{'}X)^{-1}X^{'}y \\bigg) = 0 $"
   ]
  },
  {
   "cell_type": "markdown",
   "metadata": {},
   "source": [
    "_Numerical Results_"
   ]
  },
  {
   "cell_type": "code",
   "execution_count": 15,
   "metadata": {},
   "outputs": [
    {
     "data": {
      "text/plain": [
       "-7.379838962151553e-10"
      ]
     },
     "execution_count": 15,
     "metadata": {},
     "output_type": "execute_result"
    }
   ],
   "source": [
    "np.sum(mu_hat)"
   ]
  },
  {
   "cell_type": "code",
   "execution_count": 16,
   "metadata": {},
   "outputs": [
    {
     "data": {
      "text/plain": [
       "array([-7.37983896e-10, -6.00280714e-10, -1.10322844e-08, -3.40678525e-08])"
      ]
     },
     "execution_count": 16,
     "metadata": {},
     "output_type": "execute_result"
    }
   ],
   "source": [
    "out = np.transpose(X) * mu_hat\n",
    "out.sum(axis = 1)"
   ]
  },
  {
   "cell_type": "markdown",
   "metadata": {},
   "source": [
    "(m) Construct the t-statistic corresponding to $H_0: c^{'} \\beta = 0$ vs. $H_1: c^{'} \\beta \\neq 0$ for the\n",
    "following $c$s, respectively, and calculate the corresponding p-values."
   ]
  },
  {
   "cell_type": "markdown",
   "metadata": {},
   "source": [
    "$$ c = \n",
    "\\begin{pmatrix}\n",
    "1 \\\\ \n",
    "0 \\\\\n",
    "0 \\\\\n",
    "0\n",
    "\\end{pmatrix}, \n",
    "c = \n",
    "\\begin{pmatrix}\n",
    "0 \\\\ \n",
    "1 \\\\\n",
    "0 \\\\\n",
    "0\n",
    "\\end{pmatrix}, \n",
    "c = \n",
    "\\begin{pmatrix}\n",
    "0 \\\\ \n",
    "0 \\\\\n",
    "1 \\\\\n",
    "0\n",
    "\\end{pmatrix}, \n",
    "c = \n",
    "\\begin{pmatrix}\n",
    "0 \\\\ \n",
    "0 \\\\\n",
    "0 \\\\\n",
    "1\n",
    "\\end{pmatrix}\n",
    "$$"
   ]
  },
  {
   "cell_type": "markdown",
   "metadata": {},
   "source": [
    "Denote $ \\beta = \n",
    "\\begin{pmatrix}\n",
    "\\beta_1 \\\\ \n",
    "\\beta_2 \\\\\n",
    "\\beta_3 \\\\\n",
    "\\beta_4\n",
    "\\end{pmatrix}\n",
    "$, we have the limiting distribution of $c^{'} \\hat \\beta$ under $H_0$ as"
   ]
  },
  {
   "cell_type": "markdown",
   "metadata": {},
   "source": [
    "$$ \n",
    "c^{'} \\hat \\beta \\rightarrow^{d} N \\bigg(0, c^{'}  EstVar(\\hat \\beta) c \\bigg)\n",
    "$$"
   ]
  },
  {
   "cell_type": "markdown",
   "metadata": {},
   "source": [
    "The corresponding t-statistics are "
   ]
  },
  {
   "cell_type": "markdown",
   "metadata": {},
   "source": [
    "$$ t_i = \\frac{\\hat \\beta_i}{ se(\\hat \\beta_i)}, i \\in \\{ 1, 2, 3, 4 \\} $$\n",
    "where the standard error of the corresponding estimates are calculated from the diagonal elements of the estimated variance-covariance matrix. "
   ]
  },
  {
   "cell_type": "code",
   "execution_count": 24,
   "metadata": {},
   "outputs": [],
   "source": [
    "t_0 = beta_hat[0] / np.sqrt(EstVar[0,0])\n",
    "t_1 = beta_hat[1] / np.sqrt(EstVar[1,1])\n",
    "t_2 = beta_hat[2] / np.sqrt(EstVar[2,2])\n",
    "t_3 = beta_hat[3] / np.sqrt(EstVar[3,3])"
   ]
  },
  {
   "cell_type": "markdown",
   "metadata": {},
   "source": [
    "The corresponding p-values are shown as follows:"
   ]
  },
  {
   "cell_type": "code",
   "execution_count": 31,
   "metadata": {},
   "outputs": [],
   "source": [
    "from scipy.stats import norm\n",
    "p_0 = 2 * (1 - norm.cdf( np.abs(t_0)))\n",
    "p_1 = 2 * (1 - norm.cdf( np.abs(t_1)))\n",
    "p_2 = 2 * (1 - norm.cdf( np.abs(t_2)))\n",
    "p_3 = 2 * (1 - norm.cdf( np.abs(t_3)))"
   ]
  },
  {
   "cell_type": "code",
   "execution_count": 35,
   "metadata": {},
   "outputs": [
    {
     "name": "stdout",
     "output_type": "stream",
     "text": [
      "t-statistic = 439.775 p-value = 0.0000\n",
      "t-statistic = -51.251 p-value = 0.0000\n",
      "t-statistic = 116.331 p-value = 0.0000\n",
      "t-statistic = 40.813 p-value = 0.0000\n"
     ]
    }
   ],
   "source": [
    "print('t-statistic = %6.3f p-value = %6.4f' % (t_0, p_0))\n",
    "print('t-statistic = %6.3f p-value = %6.4f' % (t_1, p_1))\n",
    "print('t-statistic = %6.3f p-value = %6.4f' % (t_2, p_2))\n",
    "print('t-statistic = %6.3f p-value = %6.4f' % (t_3, p_3))"
   ]
  },
  {
   "cell_type": "markdown",
   "metadata": {},
   "source": [
    "(n) Construct the t-statistic corresponding to $H_0: c^{'} \\beta = 1$ vs. $H_1: c^{'} \\beta \\neq 1$ for the\n",
    "following $c$ and calculate the corresponding p-values."
   ]
  },
  {
   "cell_type": "markdown",
   "metadata": {},
   "source": [
    "$$c = \n",
    "\\begin{pmatrix}\n",
    "1 \\\\ \n",
    "1 \\\\\n",
    "1 \\\\\n",
    "1\n",
    "\\end{pmatrix}\n",
    "$$"
   ]
  },
  {
   "cell_type": "markdown",
   "metadata": {},
   "source": [
    "Given $ c = \n",
    "\\begin{pmatrix}\n",
    "1 \\\\ \n",
    "1 \\\\\n",
    "1 \\\\\n",
    "1\n",
    "\\end{pmatrix}\n",
    "$, we have the limiting distribution of $c^{'} \\hat \\beta$ under $H_0$ as"
   ]
  },
  {
   "cell_type": "markdown",
   "metadata": {},
   "source": [
    "$$ \n",
    "c^{'} \\hat \\beta \\rightarrow^{d} N \\bigg(0, c^{'}  EstVar(\\hat \\beta) c \\bigg)\n",
    "$$"
   ]
  },
  {
   "cell_type": "markdown",
   "metadata": {},
   "source": [
    "The corresponding t-statistic is "
   ]
  },
  {
   "cell_type": "markdown",
   "metadata": {},
   "source": [
    "$$ t = \\frac{c^{'} \\hat \\beta}{ \\sqrt{c^{'}  EstVar(\\hat \\beta) c} } $$\n"
   ]
  },
  {
   "cell_type": "code",
   "execution_count": 44,
   "metadata": {},
   "outputs": [],
   "source": [
    "c = np.ones(4)\n",
    "se = np.sqrt(c @ EstVar @ np.transpose(c))\n",
    "t = c @ beta_hat / se"
   ]
  },
  {
   "cell_type": "markdown",
   "metadata": {},
   "source": [
    "The corresponding p-value is"
   ]
  },
  {
   "cell_type": "code",
   "execution_count": 45,
   "metadata": {},
   "outputs": [
    {
     "name": "stdout",
     "output_type": "stream",
     "text": [
      "t-statistic = 460.241 p-value = 0.0000\n"
     ]
    }
   ],
   "source": [
    "p = 2 * (1 - norm.cdf( np.abs(t)))\n",
    "print('t-statistic = %6.3f p-value = %6.4f' % (t, p))"
   ]
  },
  {
   "cell_type": "markdown",
   "metadata": {},
   "source": [
    "(o) Now consider minimizing the objective function numerically using IPOPT:"
   ]
  },
  {
   "cell_type": "markdown",
   "metadata": {},
   "source": [
    "$$ \\min_{\\beta} \\sum_{i = 1}^n (y_i - x_i^{'} \\beta)^2$$"
   ]
  },
  {
   "cell_type": "markdown",
   "metadata": {},
   "source": [
    "Solve the following problem numerically with cyIPOPT by **(i) supplying only objective function and gradient to cyIPOPT**"
   ]
  },
  {
   "cell_type": "code",
   "execution_count": 47,
   "metadata": {},
   "outputs": [
    {
     "name": "stdout",
     "output_type": "stream",
     "text": [
      "Objective value at iteration #0 is - 5.79418e+06\n",
      "Objective value at iteration #1 is - 2.47222e+06\n",
      "Objective value at iteration #2 is - 136348\n",
      "Objective value at iteration #3 is - 134232\n",
      "Objective value at iteration #4 is - 86137.6\n",
      "Objective value at iteration #5 is - 85868.6\n",
      "Objective value at iteration #6 is - 34961.8\n",
      "Objective value at iteration #7 is - 30985.8\n",
      "Objective value at iteration #8 is - 18713.6\n",
      "Objective value at iteration #9 is - 18631.3\n",
      "Objective value at iteration #10 is - 17991\n",
      "Objective value at iteration #11 is - 17957.4\n",
      "Objective value at iteration #12 is - 17945.6\n",
      "Objective value at iteration #13 is - 17944.8\n",
      "Objective value at iteration #14 is - 17944.6\n",
      "Objective value at iteration #15 is - 17944.6\n",
      "Objective value at iteration #16 is - 17944.4\n",
      "Objective value at iteration #17 is - 17944.3\n",
      "Objective value at iteration #18 is - 17944.3\n",
      "Objective value at iteration #19 is - 17944.3\n",
      "Objective value at iteration #20 is - 17944.3\n",
      "Objective value at iteration #21 is - 17944.3\n",
      "Objective value at iteration #22 is - 17944.3\n",
      "Objective value at iteration #23 is - 17944.3\n",
      "Objective value at iteration #24 is - 17944.3\n",
      "Objective value at iteration #25 is - 17944.3\n",
      "Objective value at iteration #26 is - 17944.3\n",
      "Objective value at iteration #27 is - 17944.3\n",
      "Objective value at iteration #28 is - 17944.3\n",
      "Objective value at iteration #29 is - 17944.3\n",
      "Objective value at iteration #30 is - 17944.3\n",
      "Objective value at iteration #31 is - 17944.3\n",
      "Objective value at iteration #32 is - 17944.3\n",
      "Solution of the primal variables: x=array([ 8.57636643, -0.27818095,  0.11322532,  0.0143364 ])\n",
      "\n",
      "Solution of the dual variables: lambda=array([], dtype=float64)\n",
      "\n",
      "Objective=17944.329618614607\n",
      "\n"
     ]
    }
   ],
   "source": [
    "import cyipopt\n",
    "\n",
    "class ols:\n",
    "\n",
    "    def __init__(self):\n",
    "        pass\n",
    "\n",
    "    def objective(self, beta):\n",
    "        #\n",
    "        # The callback for calculating the objective\n",
    "        #\n",
    "        return np.transpose(y - X @ beta) @ (y - X @ beta)\n",
    "\n",
    "    def gradient(self, beta):\n",
    "        #\n",
    "        # The callback for calculating the gradient\n",
    "        #\n",
    "        return -2 * np.transpose(X) @ y + 2 * np.transpose(X) @ X @ beta\n",
    "\n",
    "    def intermediate(\n",
    "            self,\n",
    "            alg_mod,\n",
    "            iter_count,\n",
    "            obj_value,\n",
    "            inf_pr,\n",
    "            inf_du,\n",
    "            mu,\n",
    "            d_norm,\n",
    "            regularization_size,\n",
    "            alpha_du,\n",
    "            alpha_pr,\n",
    "            ls_trials\n",
    "            ):\n",
    "\n",
    "        #\n",
    "        # Example for the use of the intermediate callback.\n",
    "        #\n",
    "        print(\"Objective value at iteration #%d is - %g\" % (iter_count, obj_value))\n",
    "\n",
    "\n",
    "def main():\n",
    "    #\n",
    "    # Define the problem\n",
    "    #\n",
    "    x0 = [0.0, 0.0, 0.0, 0.0]\n",
    "\n",
    "    # lb = [1.0, 1.0, 1.0, 1.0]\n",
    "    # ub = [5.0, 5.0, 5.0, 5.0]\n",
    "\n",
    "    cl = []\n",
    "    # cu = []\n",
    "\n",
    "    nlp = cyipopt.Problem(\n",
    "        n=len(x0),\n",
    "        m=len(cl),\n",
    "        problem_obj=ols(),\n",
    "        # lb=lb,\n",
    "        # ub=ub,\n",
    "        # cl=cl,\n",
    "        # cu=cu\n",
    "        )\n",
    "\n",
    "    #\n",
    "    # Set solver options\n",
    "    #\n",
    "    #nlp.addOption('derivative_test', 'second-order')\n",
    "    nlp.add_option('mu_strategy', 'adaptive')\n",
    "    nlp.add_option('tol', 1e-7)\n",
    "    nlp.add_option('linear_solver', 'ma57')\n",
    "    nlp.add_option('hessian_approximation', 'limited-memory')\n",
    "    \n",
    "    #\n",
    "    # Scale the problem (Just for demonstration purposes)\n",
    "    #\n",
    "    nlp.set_problem_scaling(\n",
    "        obj_scaling=2,\n",
    "        x_scaling=[1, 1, 1, 1]\n",
    "        )\n",
    "    nlp.add_option('nlp_scaling_method', 'user-scaling')\n",
    "\n",
    "    #\n",
    "    # Solve the problem\n",
    "    #\n",
    "    x, info = nlp.solve(x0)\n",
    "\n",
    "    print(\"Solution of the primal variables: x=%s\\n\" % repr(x))\n",
    "    print(\"Solution of the dual variables: lambda=%s\\n\" % repr(info['mult_g']))\n",
    "    print(\"Objective=%s\\n\" % repr(info['obj_val']))\n",
    "\n",
    "if __name__ == '__main__':\n",
    "    main()\n"
   ]
  },
  {
   "cell_type": "markdown",
   "metadata": {},
   "source": [
    "Solve the following problem numerically with cyIPOPT by **(ii) supplying objective function, gradient, hessian althogether respectively**"
   ]
  },
  {
   "cell_type": "code",
   "execution_count": 48,
   "metadata": {},
   "outputs": [
    {
     "name": "stdout",
     "output_type": "stream",
     "text": [
      "Objective value at iteration #0 is - 5.79418e+06\n",
      "Objective value at iteration #1 is - 17944.3\n",
      "Solution of the primal variables: x=array([ 8.57636643, -0.27818095,  0.11322532,  0.0143364 ])\n",
      "\n",
      "Solution of the dual variables: lambda=array([], dtype=float64)\n",
      "\n",
      "Objective=17944.32961861461\n",
      "\n"
     ]
    }
   ],
   "source": [
    "import cyipopt\n",
    "\n",
    "class ols:\n",
    "\n",
    "    def __init__(self):\n",
    "        pass\n",
    "\n",
    "    def objective(self, beta):\n",
    "        #\n",
    "        # The callback for calculating the objective\n",
    "        #\n",
    "        return np.transpose(y - X @ beta) @ (y - X @ beta)\n",
    "\n",
    "    def gradient(self, beta):\n",
    "        #\n",
    "        # The callback for calculating the gradient\n",
    "        #\n",
    "        return - 2 * np.transpose(X) @ y + 2 * np.transpose(X) @ X @ beta\n",
    "\n",
    "    def hessianstructure(self):\n",
    "        return np.nonzero(np.tril(np.ones((4, 4))))\n",
    "\n",
    "    def hessian(self, beta, lagrange, obj_factor):\n",
    "        #\n",
    "        # The callback for calculating the Hessian\n",
    "        #\n",
    "        \n",
    "        H = 2 * np.transpose(X) @ X \n",
    "        row, col = self.hessianstructure()\n",
    "        return H[row, col]\n",
    "\n",
    "    def intermediate(\n",
    "            self,\n",
    "            alg_mod,\n",
    "            iter_count,\n",
    "            obj_value,\n",
    "            inf_pr,\n",
    "            inf_du,\n",
    "            mu,\n",
    "            d_norm,\n",
    "            regularization_size,\n",
    "            alpha_du,\n",
    "            alpha_pr,\n",
    "            ls_trials\n",
    "            ):\n",
    "\n",
    "        #\n",
    "        # Example for the use of the intermediate callback.\n",
    "        #\n",
    "        print(\"Objective value at iteration #%d is - %g\" % (iter_count, obj_value))\n",
    "\n",
    "\n",
    "def main():\n",
    "    #\n",
    "    # Define the problem\n",
    "    #\n",
    "    x0 = [0.0, 0.0, 0.0, 0.0]\n",
    "\n",
    "    # lb = [1.0, 1.0, 1.0, 1.0]\n",
    "    # ub = [5.0, 5.0, 5.0, 5.0]\n",
    "\n",
    "    cl = []\n",
    "    # cu = []\n",
    "\n",
    "    nlp = cyipopt.Problem(\n",
    "        n=len(x0),\n",
    "        m=len(cl),\n",
    "        problem_obj=ols(),\n",
    "        # lb=lb,\n",
    "        # ub=ub,\n",
    "        # cl=cl,\n",
    "        # cu=cu\n",
    "        )\n",
    "\n",
    "    #\n",
    "    # Set solver options\n",
    "    #\n",
    "    #nlp.addOption('derivative_test', 'second-order')\n",
    "    nlp.add_option('mu_strategy', 'adaptive')\n",
    "    nlp.add_option('tol', 1e-7)\n",
    "    nlp.add_option('linear_solver', 'ma57')\n",
    "    nlp.add_option('hessian_approximation', 'exact')\n",
    "    #\n",
    "    # Scale the problem (Just for demonstration purposes)\n",
    "    #\n",
    "    nlp.set_problem_scaling(\n",
    "        obj_scaling=2,\n",
    "        x_scaling=[1, 1, 1, 1]\n",
    "        )\n",
    "    nlp.add_option('nlp_scaling_method', 'user-scaling')\n",
    "\n",
    "    #\n",
    "    # Solve the problem\n",
    "    #\n",
    "    x, info = nlp.solve(x0)\n",
    "\n",
    "    print(\"Solution of the primal variables: x=%s\\n\" % repr(x))\n",
    "\n",
    "    print(\"Solution of the dual variables: lambda=%s\\n\" % repr(info['mult_g']))\n",
    "\n",
    "    print(\"Objective=%s\\n\" % repr(info['obj_val']))\n",
    "\n",
    "\n",
    "if __name__ == '__main__':\n",
    "    main()\n"
   ]
  },
  {
   "cell_type": "markdown",
   "metadata": {},
   "source": [
    "**The estimation results coincide. However, the provision of Hession matrix enables the estimation procedure to be completed using 1 iteration whereas no-Hession procedure takes 32 iterations.**"
   ]
  },
  {
   "cell_type": "markdown",
   "metadata": {},
   "source": [
    "## _2 (Python) (Weak) Law of Large Numbers_"
   ]
  },
  {
   "cell_type": "markdown",
   "metadata": {},
   "source": [
    "(a) Consider a continuous random variable $X_i \\sim Uniform[0,2]$. What is $E[X_i]$ and $Var[X_i]$?"
   ]
  },
  {
   "cell_type": "markdown",
   "metadata": {},
   "source": [
    "(b) Consider the $X_i$ defined above in (a) for $i = 1, 2, ..., n$, where each $X_i$ is uncorrelated with $X_j$ whenever $i \\neq j$. Consider the sample mean"
   ]
  },
  {
   "cell_type": "markdown",
   "metadata": {},
   "source": [
    "$$\\bar X_n = \\frac{1}{n} \\sum_{i = 1}^n X_i$$"
   ]
  },
  {
   "cell_type": "markdown",
   "metadata": {},
   "source": [
    "What is $E[X_i]$ and $Var[X_i]$?"
   ]
  },
  {
   "cell_type": "markdown",
   "metadata": {},
   "source": [
    "Now repeat the following (c) -- (e) for $n = 1, 2, 3, 5, 10, 50, 100, 1000, 3000$. Parallelize your routine\n",
    "for (c)-(e) using **joblib**."
   ]
  },
  {
   "cell_type": "markdown",
   "metadata": {},
   "source": [
    "(c) (Python) Generate a size n vector of independent $Uniform[0,2]$ random variables and\n",
    "calculate its sample mean $\\bar X_n$."
   ]
  },
  {
   "cell_type": "markdown",
   "metadata": {},
   "source": [
    "(d) (Python) Take $| \\bar X_n - E[X_i] |$ and report the value."
   ]
  },
  {
   "cell_type": "markdown",
   "metadata": {},
   "source": [
    "(e) (Python) Now consider a continuous transformation\n"
   ]
  },
  {
   "cell_type": "markdown",
   "metadata": {},
   "source": [
    "$$f(x) = 2 x^2 - 5x + 1 + \\frac{1}{3x}$$"
   ]
  },
  {
   "cell_type": "markdown",
   "metadata": {},
   "source": [
    "Take $| \\bar X_n - E[X_i] |$ and report the value."
   ]
  },
  {
   "cell_type": "markdown",
   "metadata": {},
   "source": [
    "(f) What happens to the reported value in (d) and (e) as n increases? Discuss."
   ]
  },
  {
   "cell_type": "markdown",
   "metadata": {},
   "source": [
    "## _3 (Python) Central Limit Theorem_"
   ]
  },
  {
   "cell_type": "markdown",
   "metadata": {},
   "source": [
    "(a) Consider a continuous random variable $X_i \\sim Uniform[0,2]$. What is $E[X_i]$ and $Var[X_i]$?"
   ]
  },
  {
   "cell_type": "markdown",
   "metadata": {},
   "source": [
    "(b) Consider the $X_i$ defined above in (a) for $i = 1, 2, ..., n$, where each $X_i$ is uncorrelated with $X_j$ whenever $i \\neq j$. Consider the sample mean"
   ]
  },
  {
   "cell_type": "markdown",
   "metadata": {},
   "source": [
    "$$\\bar X_n = \\frac{1}{n} \\sum_{i = 1}^n X_i$$"
   ]
  },
  {
   "cell_type": "markdown",
   "metadata": {},
   "source": [
    "What is $E[X_i]$ and $Var[X_i]$?"
   ]
  },
  {
   "cell_type": "markdown",
   "metadata": {},
   "source": [
    "(c) Consider the transformation"
   ]
  },
  {
   "cell_type": "markdown",
   "metadata": {},
   "source": [
    "$$Y_n = \\sqrt{n} (\\bar X_n - E[X_i]) $$"
   ]
  },
  {
   "cell_type": "markdown",
   "metadata": {},
   "source": [
    "What is $E[X_i]$ and $Var[X_i]$?"
   ]
  },
  {
   "cell_type": "markdown",
   "metadata": {},
   "source": [
    "(c) Consider the transformation"
   ]
  },
  {
   "cell_type": "markdown",
   "metadata": {},
   "source": [
    "$$Y_n = \\sqrt{n} \\frac{\\bar X_n - E[X_i]}{\\sqrt{Var[X_i]}} $$"
   ]
  },
  {
   "cell_type": "markdown",
   "metadata": {},
   "source": [
    "What is $E[X_i]$ and $Var[X_i]$?"
   ]
  },
  {
   "cell_type": "markdown",
   "metadata": {},
   "source": [
    "Now repeat the following for $n = 1, 2, 3, 5, 10, 50, 100, 1000, 3000$. Parallelize your routine\n",
    "for (e)-(m) using **joblib**."
   ]
  },
  {
   "cell_type": "markdown",
   "metadata": {},
   "source": [
    "(e) (Python) Generate $t = 1, 2, 3, 4, 5, 6, 7, 8, 9, 10, 11, ..., 2500$ $n × 1$ vectors of independent\n",
    "$Uniform[0,2]$ random variables and calculate its sample mean $\\bar X_n^t$ respectively for each $t$.\n",
    "Denote this size 2500 vector as\n"
   ]
  },
  {
   "cell_type": "markdown",
   "metadata": {},
   "source": [
    "$$v_n^{2500} = \\bigg( \\bar X_n^1, \\bar X_n^2, ..., \\bar X_n^{2500} \\bigg)$$"
   ]
  },
  {
   "cell_type": "markdown",
   "metadata": {},
   "source": [
    "for now."
   ]
  },
  {
   "cell_type": "markdown",
   "metadata": {},
   "source": [
    "(f) (Python) Calculate the mean and variance of $v^{2500}$ and report."
   ]
  },
  {
   "cell_type": "code",
   "execution_count": null,
   "metadata": {},
   "outputs": [],
   "source": []
  },
  {
   "cell_type": "markdown",
   "metadata": {},
   "source": [
    "**g()**"
   ]
  },
  {
   "cell_type": "markdown",
   "metadata": {},
   "source": [
    "(h) (Python) Calculate the mean and variance of $y^{2500}$ and report."
   ]
  },
  {
   "cell_type": "markdown",
   "metadata": {},
   "source": [
    "(i) (Python) Plot the histogram of $y^{2500}$ and report."
   ]
  },
  {
   "cell_type": "code",
   "execution_count": null,
   "metadata": {},
   "outputs": [],
   "source": []
  },
  {
   "cell_type": "markdown",
   "metadata": {},
   "source": [
    "**j()**"
   ]
  },
  {
   "cell_type": "markdown",
   "metadata": {},
   "source": [
    "(k) (Python) Calculate the mean and variance of $z^{2500}$ and report."
   ]
  },
  {
   "cell_type": "markdown",
   "metadata": {},
   "source": [
    "(l) (Python) Plot the histogram of $z^{2500}$ and report."
   ]
  },
  {
   "cell_type": "markdown",
   "metadata": {},
   "source": [
    "(m) What happens to the reported values in (f), (h), (k) and histograms in (i) and (l) as n\n",
    "increases? Discuss."
   ]
  },
  {
   "cell_type": "markdown",
   "metadata": {},
   "source": [
    "## _4 (Python) WLLN with Simple Regression_##"
   ]
  },
  {
   "cell_type": "markdown",
   "metadata": {},
   "source": [
    "In this exercise, you will generate datasets for simple regression yourself, and then try to esti-\n",
    "mate the model parmaters to examine the properties of simple regression OLS estimators as the\n",
    "sample size $n$ grows.\n",
    "Repeat the following for $n = 2, 3, 4, 5, 6, 7, 8, 9, 10, 15, 20, 30, 50, 75, 100, 250, 500, 1000, 2000, 3000$.\n",
    "Parallelize your routine for (a)-(e) using **joblib**."
   ]
  },
  {
   "cell_type": "markdown",
   "metadata": {},
   "source": [
    "(a) (Python) Generate a $n × 1$ column vector of $Uniform[0, 12]$ random variable and denote it as $x$."
   ]
  },
  {
   "cell_type": "markdown",
   "metadata": {},
   "source": [
    "(b) (Python) Generate a $n × 1$ column vector of $Uniform[− 4,4]$ random variable and denote it as $u$."
   ]
  },
  {
   "cell_type": "markdown",
   "metadata": {},
   "source": [
    "(c) (Python) Generate the y vector using the following formula:"
   ]
  },
  {
   "cell_type": "markdown",
   "metadata": {},
   "source": [
    "$$y_i = 3 + 2 x_i + u_i$$"
   ]
  },
  {
   "cell_type": "markdown",
   "metadata": {},
   "source": [
    "for each $i = 1, 2, 3, ..., n$. That is, $i$’th row of $x$ and $u$ corresponds to $i$’th observation."
   ]
  },
  {
   "cell_type": "markdown",
   "metadata": {},
   "source": [
    "(d) (Python) Now you have a Monte-Carlo dataset of size $n$. Estimate the $\\beta$ in the following model"
   ]
  },
  {
   "cell_type": "markdown",
   "metadata": {},
   "source": [
    "$$y_i = \\alpha + \\beta x_i + u_i$$"
   ]
  },
  {
   "cell_type": "markdown",
   "metadata": {},
   "source": [
    "using OLS. (Recall the formula $\\frac{\\hat Cov(x_i, y_i)}{\\hat Var(x_i)}$) What is the calculated value of $\\hat \\beta_{OLS, n}$? Report."
   ]
  },
  {
   "cell_type": "markdown",
   "metadata": {},
   "source": [
    "(e) What happens to $|\\hat \\beta_{OLS, n} - 2|$  as $n$ increases? Discuss."
   ]
  },
  {
   "cell_type": "markdown",
   "metadata": {},
   "source": [
    "## _5 (Python) CLT with Simple Regression_ ##"
   ]
  },
  {
   "cell_type": "markdown",
   "metadata": {},
   "source": [
    "In this exercise, you will generate datasets for simple regression yourself, and then try to esti-\n",
    "mate the model parmaters to examine the properties of simple regression OLS estimators as the\n",
    "sample size $n$ grows.\n",
    "Repeat the following for $n = 2, 3, 4, 5, 6, 7, 8, 9, 10, 15, 20, 30, 50, 75, 100, 250, 500, 1000, 2000, 3000$.\n",
    "Parallelize your routine for (a)-(e) using **joblib**."
   ]
  },
  {
   "cell_type": "markdown",
   "metadata": {},
   "source": [
    "(a) (Python) Generate a $n × 1$ column vector of $Uniform[0, 12]$ random variable and denote it as $x$."
   ]
  },
  {
   "cell_type": "markdown",
   "metadata": {},
   "source": [
    "(b) (Python) Generate a $n × 1$ column vector of $Uniform[− 4,4]$ random variable and denote it as $u$."
   ]
  },
  {
   "cell_type": "markdown",
   "metadata": {},
   "source": [
    "(c) (Python) Generate the y vector using the following formula:"
   ]
  },
  {
   "cell_type": "markdown",
   "metadata": {},
   "source": [
    "$$y_i = 3 + 2 x_i + u_i$$"
   ]
  },
  {
   "cell_type": "markdown",
   "metadata": {},
   "source": [
    "for each $i = 1, 2, 3, ..., n$. That is, $i$’th row of $x$ and $u$ corresponds to $i$’th observation."
   ]
  },
  {
   "cell_type": "markdown",
   "metadata": {},
   "source": [
    "(d) (Python) Now you have a Monte-Carlo dataset of size $n$. Estimate the $\\beta$ in the following model"
   ]
  },
  {
   "cell_type": "markdown",
   "metadata": {},
   "source": [
    "$$y_i = \\alpha + \\beta x_i + u_i$$"
   ]
  },
  {
   "cell_type": "markdown",
   "metadata": {},
   "source": [
    "using OLS. (Recall the formula $\\frac{\\hat Cov(x_i, y_i)}{\\hat Var(x_i)}$). Save it in the memory."
   ]
  },
  {
   "cell_type": "code",
   "execution_count": null,
   "metadata": {},
   "outputs": [],
   "source": []
  },
  {
   "cell_type": "code",
   "execution_count": null,
   "metadata": {},
   "outputs": [],
   "source": []
  },
  {
   "cell_type": "code",
   "execution_count": null,
   "metadata": {},
   "outputs": [],
   "source": []
  },
  {
   "cell_type": "code",
   "execution_count": null,
   "metadata": {},
   "outputs": [],
   "source": []
  },
  {
   "cell_type": "code",
   "execution_count": null,
   "metadata": {},
   "outputs": [],
   "source": []
  },
  {
   "cell_type": "code",
   "execution_count": null,
   "metadata": {},
   "outputs": [],
   "source": []
  },
  {
   "cell_type": "code",
   "execution_count": null,
   "metadata": {},
   "outputs": [],
   "source": []
  },
  {
   "cell_type": "code",
   "execution_count": null,
   "metadata": {},
   "outputs": [],
   "source": []
  },
  {
   "cell_type": "code",
   "execution_count": null,
   "metadata": {},
   "outputs": [],
   "source": []
  }
 ],
 "metadata": {
  "kernelspec": {
   "display_name": "Python 3",
   "language": "python",
   "name": "python3"
  },
  "language_info": {
   "codemirror_mode": {
    "name": "ipython",
    "version": 3
   },
   "file_extension": ".py",
   "mimetype": "text/x-python",
   "name": "python",
   "nbconvert_exporter": "python",
   "pygments_lexer": "ipython3",
   "version": "3.6.9"
  }
 },
 "nbformat": 4,
 "nbformat_minor": 4
}
